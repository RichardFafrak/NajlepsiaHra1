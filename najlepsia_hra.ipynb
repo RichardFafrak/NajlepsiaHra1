{
  "nbformat": 4,
  "nbformat_minor": 0,
  "metadata": {
    "colab": {
      "provenance": [],
      "authorship_tag": "ABX9TyP7dQmXAltMPBjsKJ1COm4p",
      "include_colab_link": true
    },
    "kernelspec": {
      "name": "python3",
      "display_name": "Python 3"
    },
    "language_info": {
      "name": "python"
    }
  },
  "cells": [
    {
      "cell_type": "markdown",
      "metadata": {
        "id": "view-in-github",
        "colab_type": "text"
      },
      "source": [
        "<a href=\"https://colab.research.google.com/github/RichardFafrak/NajlepsiaHra1/blob/main/najlepsia_hra.ipynb\" target=\"_parent\"><img src=\"https://colab.research.google.com/assets/colab-badge.svg\" alt=\"Open In Colab\"/></a>"
      ]
    },
    {
      "cell_type": "markdown",
      "source": [
        "# Najlepšia 1.A\n",
        "**Richard Fafrák** - Senior programátor\n",
        "* Vodca\n",
        "\n",
        "**Adam Ambrúž** - Junior programátor\n",
        "* Programuje hru\n",
        "\n",
        "**Nina Mihóková** - Junior programátor\n",
        "* Vytvára pravidlá\n",
        "\n",
        "**Miro Chromiak** - Junior programátor\n",
        "* Tester\n"
      ],
      "metadata": {
        "id": "MBtn3tnxNiAl"
      }
    },
    {
      "cell_type": "markdown",
      "source": [
        "# 🎯 Hádačka čísel – Pravidlá hry\n",
        "**🧠 Cieľ hry:**\n",
        "Uhádnuť správne číslo, ktoré sa náhodne vygeneruje.\n",
        "\n",
        "\n",
        "**👥 Počet hráčov:**\n",
        "  2 hráči\n",
        "\n",
        "\n",
        "\n",
        "**🔢 Príprava:**\n",
        "Číslo sa vygeneruje v určenom rozsahu (napr. od 1 do 100).\n",
        "\n",
        "Rozsah čísla je oznámený vopred.\n",
        "\n",
        "\n",
        "**🕹️ Priebeh hry:**\n",
        "Hádači striedavo tipujú čísla.\n",
        "\n",
        "Po každom tipe hra napíše:\n",
        "\n",
        "„Vyššie!“ – ak hádané číslo je menšie ako správne.\n",
        "\n",
        "„Nižšie!“ – ak hádané číslo je väčšie ako správne.\n",
        "\n",
        "„Správne!“ – ak niekto uhádne číslo.\n",
        "\n",
        "**🏆 Víťaz:**\n",
        "Vyhráva ten hráč, ktorý ako prvý uhádne správne číslo.\n",
        "\n",
        "**🔁 Obmena:**\n",
        "\n",
        "\n",
        "Môžete si počítať body – napr. 1 bod za každé správne uhádnutie.\n",
        "\n"
      ],
      "metadata": {
        "id": "NY4z2HHzQ4Pz"
      }
    },
    {
      "cell_type": "code",
      "source": [
        "# @title\n",
        "import random\n",
        "import os\n",
        "\n",
        "SUBOR_SKORE = \"skore.txt\"\n",
        "\n",
        "def nacitaj_skore():\n",
        "    skore = []\n",
        "    if os.path.exists(SUBOR_SKORE):\n",
        "        with open(SUBOR_SKORE, \"r\") as f:\n",
        "            for riadok in f:\n",
        "                meno, pokusy = riadok.strip().split(\",\")\n",
        "                skore.append((meno, int(pokusy)))\n",
        "    return skore\n",
        "\n",
        "def uloz_skore(meno, pokusy):\n",
        "    with open(SUBOR_SKORE, \"a\") as f:\n",
        "        f.write(f\"{meno},{pokusy}\\n\")\n",
        "\n",
        "def zobraz_tab_skor():\n",
        "    skore = nacitaj_skore()\n",
        "    if not skore:\n",
        "        print(\"📭 Tabuľka skóre je zatiaľ prázdna.\")\n",
        "        return\n",
        "\n",
        "    print(\"\\n🏅 TOP hráči:\")\n",
        "    zoradene = sorted(skore, key=lambda x: x[1])[:5]\n",
        "    for poradie, (meno, pokusy) in enumerate(zoradene, 1):\n",
        "        print(f\"{poradie}. {meno} - {pokusy} pokusov\")\n",
        "\n",
        "def hadaj_dvaja_hraci():\n",
        "    print(\"🎯 Vitaj v hre Hádačka čísla pre 2 hráčov!\")\n",
        "    meno1 = input(\"Zadaj meno hráča 1: \")\n",
        "    meno2 = input(\"Zadaj meno hráča 2: \")\n",
        "\n",
        "    tajne_cislo = random.randint(1, 100)\n",
        "    pokusy1 = 0\n",
        "    pokusy2 = 0\n",
        "    hrac_na_rade = 1\n",
        "\n",
        "    while True:\n",
        "        try:\n",
        "            if hrac_na_rade == 1:\n",
        "                tip = int(input(f\"{meno1}, hádaj číslo medzi 1 a 100: \"))\n",
        "                pokusy1 += 1\n",
        "                if tip == tajne_cislo:\n",
        "                    print(f\"\\n🎉 {meno1} vyhráva! Uhádol číslo {tajne_cislo} za {pokusy1} pokusov.\")\n",
        "                    uloz_skore(meno1, pokusy1)\n",
        "                    break\n",
        "                elif tip < tajne_cislo:\n",
        "                    print(\"🔽 Skús vyššie číslo.\")\n",
        "                else:\n",
        "                    print(\"🔼 Skús nižšie číslo.\")\n",
        "                hrac_na_rade = 2\n",
        "            else:\n",
        "                tip = int(input(f\"{meno2}, hádaj číslo medzi 1 a 100: \"))\n",
        "                pokusy2 += 1\n",
        "                if tip == tajne_cislo:\n",
        "                    print(f\"\\n🎉 {meno2} vyhráva! Uhádol číslo {tajne_cislo} za {pokusy2} pokusov.\")\n",
        "                    uloz_skore(meno2, pokusy2)\n",
        "                    break\n",
        "                elif tip < tajne_cislo:\n",
        "                    print(\"🔽 Skús vyššie číslo.\")\n",
        "                else:\n",
        "                    print(\"🔼 Skús nižšie číslo.\")\n",
        "                hrac_na_rade = 1\n",
        "        except ValueError:\n",
        "            print(\"⚠️ Zadaj platné celé číslo.\")\n",
        "\n",
        "    zobraz_tab_skor()\n",
        "\n",
        "if __name__ == \"__main__\":\n",
        "    hadaj_dvaja_hraci()\n"
      ],
      "metadata": {
        "id": "J8wMZTT5Q6ZJ",
        "cellView": "form"
      },
      "execution_count": null,
      "outputs": []
    }
  ]
}